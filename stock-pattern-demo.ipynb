{
 "cells": [
  {
   "cell_type": "code",
   "execution_count": null,
   "id": "3dce1f71",
   "metadata": {
    "scrolled": true
   },
   "outputs": [],
   "source": [
    "import warnings\n",
    "import FinanceDataReader as fdr\n",
    "import matplotlib.pyplot as plt\n",
    "from matplotlib.figure import Figure\n",
    "import pandas_datareader.data as web\n",
    "import pandas as pd\n",
    "import numpy as np\n",
    "\n",
    "warnings.filterwarnings('ignore')"
   ]
  },
  {
   "cell_type": "code",
   "execution_count": 51,
   "id": "8d930e83",
   "metadata": {
    "scrolled": true
   },
   "outputs": [
    {
     "data": {
      "text/html": [
       "<div>\n",
       "<style scoped>\n",
       "    .dataframe tbody tr th:only-of-type {\n",
       "        vertical-align: middle;\n",
       "    }\n",
       "\n",
       "    .dataframe tbody tr th {\n",
       "        vertical-align: top;\n",
       "    }\n",
       "\n",
       "    .dataframe thead th {\n",
       "        text-align: right;\n",
       "    }\n",
       "</style>\n",
       "<table border=\"1\" class=\"dataframe\">\n",
       "  <thead>\n",
       "    <tr style=\"text-align: right;\">\n",
       "      <th></th>\n",
       "      <th>Close</th>\n",
       "      <th>Open</th>\n",
       "      <th>High</th>\n",
       "      <th>Low</th>\n",
       "      <th>Volume</th>\n",
       "      <th>Change</th>\n",
       "    </tr>\n",
       "    <tr>\n",
       "      <th>Date</th>\n",
       "      <th></th>\n",
       "      <th></th>\n",
       "      <th></th>\n",
       "      <th></th>\n",
       "      <th></th>\n",
       "      <th></th>\n",
       "    </tr>\n",
       "  </thead>\n",
       "  <tbody>\n",
       "    <tr>\n",
       "      <th>1981-05-01</th>\n",
       "      <td>123.60</td>\n",
       "      <td>123.60</td>\n",
       "      <td>123.60</td>\n",
       "      <td>123.60</td>\n",
       "      <td>3330000.0</td>\n",
       "      <td>0.0098</td>\n",
       "    </tr>\n",
       "    <tr>\n",
       "      <th>1981-05-02</th>\n",
       "      <td>123.50</td>\n",
       "      <td>123.50</td>\n",
       "      <td>123.50</td>\n",
       "      <td>123.50</td>\n",
       "      <td>2040000.0</td>\n",
       "      <td>-0.0008</td>\n",
       "    </tr>\n",
       "    <tr>\n",
       "      <th>1981-05-04</th>\n",
       "      <td>120.60</td>\n",
       "      <td>120.60</td>\n",
       "      <td>120.60</td>\n",
       "      <td>120.60</td>\n",
       "      <td>1930000.0</td>\n",
       "      <td>-0.0235</td>\n",
       "    </tr>\n",
       "    <tr>\n",
       "      <th>1981-05-06</th>\n",
       "      <td>120.70</td>\n",
       "      <td>120.70</td>\n",
       "      <td>120.70</td>\n",
       "      <td>120.70</td>\n",
       "      <td>1690000.0</td>\n",
       "      <td>0.0008</td>\n",
       "    </tr>\n",
       "    <tr>\n",
       "      <th>1981-05-07</th>\n",
       "      <td>119.30</td>\n",
       "      <td>119.30</td>\n",
       "      <td>119.30</td>\n",
       "      <td>119.30</td>\n",
       "      <td>1480000.0</td>\n",
       "      <td>-0.0116</td>\n",
       "    </tr>\n",
       "    <tr>\n",
       "      <th>...</th>\n",
       "      <td>...</td>\n",
       "      <td>...</td>\n",
       "      <td>...</td>\n",
       "      <td>...</td>\n",
       "      <td>...</td>\n",
       "      <td>...</td>\n",
       "    </tr>\n",
       "    <tr>\n",
       "      <th>2022-02-03</th>\n",
       "      <td>2707.82</td>\n",
       "      <td>2706.34</td>\n",
       "      <td>2735.34</td>\n",
       "      <td>2702.78</td>\n",
       "      <td>435710000.0</td>\n",
       "      <td>0.0167</td>\n",
       "    </tr>\n",
       "    <tr>\n",
       "      <th>2022-02-04</th>\n",
       "      <td>2750.26</td>\n",
       "      <td>2714.83</td>\n",
       "      <td>2751.80</td>\n",
       "      <td>2712.87</td>\n",
       "      <td>536150000.0</td>\n",
       "      <td>0.0157</td>\n",
       "    </tr>\n",
       "    <tr>\n",
       "      <th>2022-02-07</th>\n",
       "      <td>2745.06</td>\n",
       "      <td>2750.70</td>\n",
       "      <td>2750.70</td>\n",
       "      <td>2718.94</td>\n",
       "      <td>410080.0</td>\n",
       "      <td>-0.0019</td>\n",
       "    </tr>\n",
       "    <tr>\n",
       "      <th>2022-02-08</th>\n",
       "      <td>2746.47</td>\n",
       "      <td>2767.76</td>\n",
       "      <td>2779.85</td>\n",
       "      <td>2726.72</td>\n",
       "      <td>554890.0</td>\n",
       "      <td>0.0005</td>\n",
       "    </tr>\n",
       "    <tr>\n",
       "      <th>2022-02-09</th>\n",
       "      <td>2765.02</td>\n",
       "      <td>2772.63</td>\n",
       "      <td>2773.38</td>\n",
       "      <td>2753.51</td>\n",
       "      <td>380290.0</td>\n",
       "      <td>0.0068</td>\n",
       "    </tr>\n",
       "  </tbody>\n",
       "</table>\n",
       "<p>10885 rows × 6 columns</p>\n",
       "</div>"
      ],
      "text/plain": [
       "              Close     Open     High      Low       Volume  Change\n",
       "Date                                                               \n",
       "1981-05-01   123.60   123.60   123.60   123.60    3330000.0  0.0098\n",
       "1981-05-02   123.50   123.50   123.50   123.50    2040000.0 -0.0008\n",
       "1981-05-04   120.60   120.60   120.60   120.60    1930000.0 -0.0235\n",
       "1981-05-06   120.70   120.70   120.70   120.70    1690000.0  0.0008\n",
       "1981-05-07   119.30   119.30   119.30   119.30    1480000.0 -0.0116\n",
       "...             ...      ...      ...      ...          ...     ...\n",
       "2022-02-03  2707.82  2706.34  2735.34  2702.78  435710000.0  0.0167\n",
       "2022-02-04  2750.26  2714.83  2751.80  2712.87  536150000.0  0.0157\n",
       "2022-02-07  2745.06  2750.70  2750.70  2718.94     410080.0 -0.0019\n",
       "2022-02-08  2746.47  2767.76  2779.85  2726.72     554890.0  0.0005\n",
       "2022-02-09  2765.02  2772.63  2773.38  2753.51     380290.0  0.0068\n",
       "\n",
       "[10885 rows x 6 columns]"
      ]
     },
     "execution_count": 51,
     "metadata": {},
     "output_type": "execute_result"
    }
   ],
   "source": [
    "# finance datareader로부터 데이터 불러오기\n",
    "data = fdr.DataReader('KS11')\n",
    "data"
   ]
  },
  {
   "cell_type": "code",
   "execution_count": 53,
   "id": "c6ee01cd",
   "metadata": {},
   "outputs": [],
   "source": [
    "# 종가만 추출\n",
    "close = data['Close']\n",
    "\n",
    "# 비교 기준 구간\n",
    "start_date = '2021-09-01'\n",
    "end_date = '2021-09-16'"
   ]
  },
  {
   "cell_type": "code",
   "execution_count": 54,
   "id": "914f72a7",
   "metadata": {},
   "outputs": [
    {
     "data": {
      "image/png": "[encoded data removed]",
      "text/plain": [
       "<Figure size 432x288 with 1 Axes>"
      ]
     },
     "metadata": {
      "needs_background": "light"
     },
     "output_type": "display_data"
    }
   ],
   "source": [
    "# 기준 구간 시계열 차트\n",
    "close[start_date:end_date].plot();"
   ]
  },
  {
   "cell_type": "code",
   "execution_count": 55,
   "id": "02e442ef",
   "metadata": {},
   "outputs": [
    {
     "data": {
      "text/plain": [
       "Date\n",
       "2021-09-01    3207.02\n",
       "2021-09-02    3175.85\n",
       "2021-09-03    3201.06\n",
       "2021-09-06    3203.33\n",
       "2021-09-07    3187.42\n",
       "2021-09-08    3162.99\n",
       "2021-09-09    3114.70\n",
       "2021-09-10    3125.76\n",
       "2021-09-13    3127.86\n",
       "2021-09-14    3148.83\n",
       "2021-09-15    3153.40\n",
       "2021-09-16    3130.09\n",
       "Name: Close, dtype: float64"
      ]
     },
     "execution_count": 55,
     "metadata": {},
     "output_type": "execute_result"
    }
   ],
   "source": [
    "base = close[start_date:end_date]\n",
    "base"
   ]
  },
  {
   "cell_type": "code",
   "execution_count": 56,
   "id": "5c1db69b",
   "metadata": {},
   "outputs": [
    {
     "data": {
      "text/plain": [
       "Date\n",
       "2021-09-01    1.000000\n",
       "2021-09-02    0.662370\n",
       "2021-09-03    0.935442\n",
       "2021-09-06    0.960030\n",
       "2021-09-07    0.787695\n",
       "2021-09-08    0.523072\n",
       "2021-09-09    0.000000\n",
       "2021-09-10    0.119801\n",
       "2021-09-13    0.142548\n",
       "2021-09-14    0.369692\n",
       "2021-09-15    0.419194\n",
       "2021-09-16    0.166703\n",
       "Name: Close, dtype: float64"
      ]
     },
     "execution_count": 56,
     "metadata": {},
     "output_type": "execute_result"
    }
   ],
   "source": [
    "base_norm = (base - base.min()) / (base.max() - base.min())\n",
    "base_norm"
   ]
  },
  {
   "cell_type": "code",
   "execution_count": 57,
   "id": "2dbc60ff",
   "metadata": {},
   "outputs": [],
   "source": [
    "# 윈도우 사이즈\n",
    "window_size = len(base)\n",
    "\n",
    "# 예측 기간\n",
    "next_date = 5\n",
    "\n",
    "# 검색 횟수\n",
    "moving_cnt = len(base) - window_size - next_date - 1"
   ]
  },
  {
   "cell_type": "code",
   "execution_count": 58,
   "id": "27ac9482",
   "metadata": {},
   "outputs": [],
   "source": [
    "# 유사도 저장 딕셔너리\n",
    "sim_list = []\n",
    "\n",
    "for i in range(moving_cnt):\n",
    "    target = close[i:i+window_size]\n",
    "    \n",
    "    # Normalize\n",
    "    target_norm = (target - target.min()) / (target.max() - target.min())\n",
    "    \n",
    "    # 코사인 유사도 저장\n",
    "    cos_similarity = cosine(base_norm, target_norm)\n",
    "    \n",
    "    # 코사인 유사도 <- i(인덱스), 시계열데이터 함께 저장\n",
    "    sim_list.append(cos_similarity)"
   ]
  },
  {
   "cell_type": "code",
   "execution_count": 59,
   "id": "3d9ab6d5",
   "metadata": {},
   "outputs": [
    {
     "data": {
      "text/plain": [
       "Series([], dtype: float64)"
      ]
     },
     "execution_count": 59,
     "metadata": {},
     "output_type": "execute_result"
    }
   ],
   "source": [
    "pd.Series(sim_list).sort_values().head(20)"
   ]
  },
  {
   "cell_type": "code",
   "execution_count": 60,
   "id": "6c866cbe",
   "metadata": {},
   "outputs": [
    {
     "data": {
      "image/png": "[encoded data removed]",
      "text/plain": [
       "<Figure size 432x288 with 1 Axes>"
      ]
     },
     "metadata": {
      "needs_background": "light"
     },
     "output_type": "display_data"
    }
   ],
   "source": [
    "idx = 3193\n",
    "\n",
    "top_ = close[idx:idx+window_size+next_date]\n",
    "top_norm = (top_ - top_.min()) / (top_.max() - top_.min())\n",
    "\n",
    "plt.plot(base_norm.values, label='base')\n",
    "plt.plot(top_norm.values, label='target')\n",
    "plt.axvline(x=len(base_norm)-1, c='r', linestyle='--')\n",
    "plt.axvspan(len(base_norm.values)-1, len(top_norm.values)-1, facecolor='yellow', alpha=0.3)\n",
    "plt.legend()\n",
    "plt.show()"
   ]
  },
  {
   "cell_type": "code",
   "execution_count": 61,
   "id": "8cda0cbb",
   "metadata": {},
   "outputs": [],
   "source": [
    "class PatternFinder():\n",
    "    def __init__(self, period=5):\n",
    "        self.period = period\n",
    "    \n",
    "    def set_stock(self, code: str):\n",
    "        self.code = code\n",
    "        self.data = fdr.DataReader(code)\n",
    "        self.close = self.data['Close']\n",
    "        self.change = self.data['Change']\n",
    "        return self.data\n",
    "        \n",
    "    def search(self, start_date, end_date, threshold=0.98):\n",
    "        base = self.close[start_date:end_date]\n",
    "        self.base_norm = (base - base.min()) / (base.max() - base.min())\n",
    "        self.base = base\n",
    "        \n",
    "        display(base)\n",
    "        \n",
    "        window_size = len(base)\n",
    "        moving_cnt = len(self.data) - window_size - self.period - 1\n",
    "        cos_sims = self.__cosine_sims(moving_cnt, window_size)\n",
    "        \n",
    "        self.window_size = window_size\n",
    "        cos_sims = cos_sims[cos_sims > threshold]\n",
    "        return cos_sims\n",
    "    \n",
    "    \n",
    "    def __cosine_sims(self, moving_cnt, window_size):\n",
    "        def cosine_similarity(x, y):\n",
    "            return np.dot(x, y) / (np.sqrt(np.dot(x, x)) * np.sqrt(np.dot(y, y)))\n",
    "        \n",
    "        # 유사도 저장 딕셔너리\n",
    "        sim_list = []\n",
    "\n",
    "        for i in range(moving_cnt):\n",
    "            target = self.close[i:i+window_size]\n",
    "\n",
    "            # Normalize\n",
    "            target_norm = (target - target.min()) / (target.max() - target.min())\n",
    "\n",
    "            # 코사인 유사도 저장\n",
    "            cos_similarity = cosine_similarity(self.base_norm, target_norm)\n",
    "\n",
    "            # 코사인 유사도 <- i(인덱스), 시계열데이터 함께 저장\n",
    "            sim_list.append(cos_similarity)\n",
    "        return pd.Series(sim_list).sort_values(ascending=False)\n",
    "\n",
    "    \n",
    "    def plot_pattern(self, idx, period=5):\n",
    "        if period != self.period:\n",
    "            self.period = period\n",
    "            \n",
    "        top = self.close[idx:idx+self.window_size+period]\n",
    "        top_norm = (top - top.min()) / (top.max() - top.min())\n",
    "\n",
    "        plt.plot(self.base_norm.values, label='base')\n",
    "        plt.plot(top_norm.values, label='target')\n",
    "        plt.axvline(x=len(self.base_norm)-1, c='r', linestyle='--')\n",
    "        plt.axvspan(len(self.base_norm.values)-1, len(top_norm.values)-1, facecolor='yellow', alpha=0.3)\n",
    "        plt.legend()\n",
    "        plt.show()\n",
    "        \n",
    "        \n",
    "        preds = self.change[idx+self.window_size: idx+self.window_size+period]\n",
    "        display(preds)\n",
    "        print(f'pred: {preds.mean()*100} % ')\n",
    "\n",
    "    \n",
    "    def stat_prediction(self, result, period=5):\n",
    "        idx_list = list(result.keys())\n",
    "        mean_list = []\n",
    "        for idx in idx_list:\n",
    "            pred = self.change[idx+self.window_size: idx+self.window_size+period]\n",
    "            mean_list.append(pred.mean())\n",
    "        return np.array(mean_list)"
   ]
  },
  {
   "cell_type": "code",
   "execution_count": 62,
   "id": "43692eaa",
   "metadata": {},
   "outputs": [],
   "source": [
    "p = PatternFinder()"
   ]
  },
  {
   "cell_type": "code",
   "execution_count": 63,
   "id": "270ae454",
   "metadata": {},
   "outputs": [
    {
     "data": {
      "text/html": [
       "<div>\n",
       "<style scoped>\n",
       "    .dataframe tbody tr th:only-of-type {\n",
       "        vertical-align: middle;\n",
       "    }\n",
       "\n",
       "    .dataframe tbody tr th {\n",
       "        vertical-align: top;\n",
       "    }\n",
       "\n",
       "    .dataframe thead th {\n",
       "        text-align: right;\n",
       "    }\n",
       "</style>\n",
       "<table border=\"1\" class=\"dataframe\">\n",
       "  <thead>\n",
       "    <tr style=\"text-align: right;\">\n",
       "      <th></th>\n",
       "      <th>Open</th>\n",
       "      <th>High</th>\n",
       "      <th>Low</th>\n",
       "      <th>Close</th>\n",
       "      <th>Volume</th>\n",
       "      <th>Change</th>\n",
       "    </tr>\n",
       "    <tr>\n",
       "      <th>Date</th>\n",
       "      <th></th>\n",
       "      <th></th>\n",
       "      <th></th>\n",
       "      <th></th>\n",
       "      <th></th>\n",
       "      <th></th>\n",
       "    </tr>\n",
       "  </thead>\n",
       "  <tbody>\n",
       "    <tr>\n",
       "      <th>1997-12-26</th>\n",
       "      <td>193638</td>\n",
       "      <td>193638</td>\n",
       "      <td>193638</td>\n",
       "      <td>193640</td>\n",
       "      <td>1100</td>\n",
       "      <td>NaN</td>\n",
       "    </tr>\n",
       "    <tr>\n",
       "      <th>1997-12-27</th>\n",
       "      <td>208770</td>\n",
       "      <td>208770</td>\n",
       "      <td>208770</td>\n",
       "      <td>208757</td>\n",
       "      <td>1100</td>\n",
       "      <td>0.078068</td>\n",
       "    </tr>\n",
       "    <tr>\n",
       "      <th>1998-01-03</th>\n",
       "      <td>224821</td>\n",
       "      <td>224821</td>\n",
       "      <td>224821</td>\n",
       "      <td>224809</td>\n",
       "      <td>1100</td>\n",
       "      <td>0.076893</td>\n",
       "    </tr>\n",
       "    <tr>\n",
       "      <th>1998-01-05</th>\n",
       "      <td>215349</td>\n",
       "      <td>215349</td>\n",
       "      <td>215349</td>\n",
       "      <td>215353</td>\n",
       "      <td>0</td>\n",
       "      <td>-0.042062</td>\n",
       "    </tr>\n",
       "    <tr>\n",
       "      <th>1998-01-06</th>\n",
       "      <td>215349</td>\n",
       "      <td>215349</td>\n",
       "      <td>215349</td>\n",
       "      <td>215353</td>\n",
       "      <td>0</td>\n",
       "      <td>0.000000</td>\n",
       "    </tr>\n",
       "    <tr>\n",
       "      <th>...</th>\n",
       "      <td>...</td>\n",
       "      <td>...</td>\n",
       "      <td>...</td>\n",
       "      <td>...</td>\n",
       "      <td>...</td>\n",
       "      <td>...</td>\n",
       "    </tr>\n",
       "    <tr>\n",
       "      <th>2022-02-03</th>\n",
       "      <td>4600</td>\n",
       "      <td>4730</td>\n",
       "      <td>4430</td>\n",
       "      <td>4430</td>\n",
       "      <td>722089</td>\n",
       "      <td>-0.016648</td>\n",
       "    </tr>\n",
       "    <tr>\n",
       "      <th>2022-02-04</th>\n",
       "      <td>4575</td>\n",
       "      <td>4780</td>\n",
       "      <td>4460</td>\n",
       "      <td>4550</td>\n",
       "      <td>1663541</td>\n",
       "      <td>0.027088</td>\n",
       "    </tr>\n",
       "    <tr>\n",
       "      <th>2022-02-07</th>\n",
       "      <td>4570</td>\n",
       "      <td>4745</td>\n",
       "      <td>4570</td>\n",
       "      <td>4645</td>\n",
       "      <td>782940</td>\n",
       "      <td>0.020879</td>\n",
       "    </tr>\n",
       "    <tr>\n",
       "      <th>2022-02-08</th>\n",
       "      <td>4710</td>\n",
       "      <td>4820</td>\n",
       "      <td>4620</td>\n",
       "      <td>4680</td>\n",
       "      <td>715129</td>\n",
       "      <td>0.007535</td>\n",
       "    </tr>\n",
       "    <tr>\n",
       "      <th>2022-02-09</th>\n",
       "      <td>4740</td>\n",
       "      <td>4740</td>\n",
       "      <td>4550</td>\n",
       "      <td>4580</td>\n",
       "      <td>371358</td>\n",
       "      <td>-0.021368</td>\n",
       "    </tr>\n",
       "  </tbody>\n",
       "</table>\n",
       "<p>6000 rows × 6 columns</p>\n",
       "</div>"
      ],
      "text/plain": [
       "              Open    High     Low   Close   Volume    Change\n",
       "Date                                                         \n",
       "1997-12-26  193638  193638  193638  193640     1100       NaN\n",
       "1997-12-27  208770  208770  208770  208757     1100  0.078068\n",
       "1998-01-03  224821  224821  224821  224809     1100  0.076893\n",
       "1998-01-05  215349  215349  215349  215353        0 -0.042062\n",
       "1998-01-06  215349  215349  215349  215353        0  0.000000\n",
       "...            ...     ...     ...     ...      ...       ...\n",
       "2022-02-03    4600    4730    4430    4430   722089 -0.016648\n",
       "2022-02-04    4575    4780    4460    4550  1663541  0.027088\n",
       "2022-02-07    4570    4745    4570    4645   782940  0.020879\n",
       "2022-02-08    4710    4820    4620    4680   715129  0.007535\n",
       "2022-02-09    4740    4740    4550    4580   371358 -0.021368\n",
       "\n",
       "[6000 rows x 6 columns]"
      ]
     },
     "execution_count": 63,
     "metadata": {},
     "output_type": "execute_result"
    }
   ],
   "source": [
    "p.set_stock('018700')"
   ]
  },
  {
   "cell_type": "code",
   "execution_count": 64,
   "id": "7d152561",
   "metadata": {},
   "outputs": [
    {
     "data": {
      "text/plain": [
       "Date\n",
       "2021-09-10    2625\n",
       "2021-09-13    2620\n",
       "2021-09-14    2630\n",
       "2021-09-15    2625\n",
       "2021-09-16    2635\n",
       "2021-09-17    2635\n",
       "2021-09-23    2920\n",
       "2021-09-24    2880\n",
       "2021-09-27    2955\n",
       "2021-09-28    2995\n",
       "2021-09-29    2975\n",
       "2021-09-30    3020\n",
       "Name: Close, dtype: int64"
      ]
     },
     "metadata": {},
     "output_type": "display_data"
    }
   ],
   "source": [
    "result = p.search('2021-09-10', '2021-09-30')"
   ]
  },
  {
   "cell_type": "code",
   "execution_count": 65,
   "id": "7c42629a",
   "metadata": {},
   "outputs": [
    {
     "data": {
      "text/plain": [
       "array([ 0.06733601, -0.01124373,  0.00517852,  0.        ,  0.        ,\n",
       "       -0.01440996, -0.00021833,  0.00531945,  0.03402142,  0.00472001,\n",
       "       -0.02052574,  0.00670564,  0.09559623])"
      ]
     },
     "execution_count": 65,
     "metadata": {},
     "output_type": "execute_result"
    }
   ],
   "source": [
    "pred = p.stat_prediction(result)\n",
    "pred"
   ]
  },
  {
   "cell_type": "code",
   "execution_count": 66,
   "id": "cfd23aca",
   "metadata": {},
   "outputs": [
    {
     "data": {
      "image/png": "[encoded data removed]",
      "text/plain": [
       "<Figure size 432x288 with 1 Axes>"
      ]
     },
     "metadata": {
      "needs_background": "light"
     },
     "output_type": "display_data"
    },
    {
     "data": {
      "text/plain": [
       "Date\n",
       "2006-07-12    0.029383\n",
       "2006-07-13   -0.028545\n",
       "2006-07-14   -0.039199\n",
       "2006-07-18    0.010216\n",
       "2006-07-19   -0.010113\n",
       "Name: Change, dtype: float64"
      ]
     },
     "metadata": {},
     "output_type": "display_data"
    },
    {
     "name": "stdout",
     "output_type": "stream",
     "text": [
      "pred: -0.7651454397514867 % \n"
     ]
    }
   ],
   "source": [
    "p.plot_pattern(2138)"
   ]
  },
  {
   "cell_type": "markdown",
   "id": "7d890ad0",
   "metadata": {},
   "source": [
    "## 웹으로 만들기"
   ]
  },
  {
   "cell_type": "code",
   "execution_count": 67,
   "id": "87cbe08e",
   "metadata": {},
   "outputs": [],
   "source": [
    "import ipywidgets as widgets\n",
    "from IPython.display import display, clear_output\n",
    "\n",
    "# !jupyter nbextension enable --py widgetsnbextension --sys-prefix\n",
    "# !jupyter serverextension enable voila --sys-prefix"
   ]
  },
  {
   "cell_type": "code",
   "execution_count": 68,
   "id": "3aba7d53",
   "metadata": {},
   "outputs": [],
   "source": [
    "start_date = widgets.DatePicker(description='開始日')\n",
    "end_date = widgets.DatePicker(description='終了日')"
   ]
  },
  {
   "cell_type": "code",
   "execution_count": 69,
   "id": "e953ddaf",
   "metadata": {},
   "outputs": [],
   "source": [
    "# button send\n",
    "search_button = widgets.Button(\n",
    "                description='予測開始',\n",
    "                tooltip='Send',\n",
    "                style={'description_width': 'initial'}\n",
    "            )\n",
    "\n",
    "output = widgets.Output()\n",
    "\n",
    "def on_button_clicked(event):\n",
    "    with output:\n",
    "        clear_output()\n",
    "        p = PatternFinder()\n",
    "        p.set_stock(code.value)\n",
    "        result = p.search(start_date.value.strftime('%Y-%m-%d'), end_date.value.strftime('%Y-%m-%d'))\n",
    "        print(result)\n",
    "        for idx in result.keys():\n",
    "            p.plot_pattern(idx)\n",
    "        \n",
    "search_button.on_click(on_button_clicked)\n",
    "\n",
    "vbox_result = widgets.VBox([search_button, output])"
   ]
  },
  {
   "cell_type": "code",
   "execution_count": 70,
   "id": "1c5c8dea",
   "metadata": {},
   "outputs": [],
   "source": [
    "label_headline = widgets.Label(\n",
    "                    value='Photo by CDC on Unsplash',\n",
    "                )\n",
    "\n",
    "vbox_headline = widgets.VBox([label_headline])"
   ]
  },
  {
   "cell_type": "code",
   "execution_count": 73,
   "id": "3ab7d9ec",
   "metadata": {},
   "outputs": [],
   "source": [
    "text_0 = widgets.HTML(value=\"<h2>株価コード</h2>\")\n",
    "text_1 = widgets.HTML(value=\"<h2>日時選択</h2>\")\n",
    "text_2 = widgets.HTML(value=\"<h2>パターン予測</h2>\")\n",
    "\n",
    "code = widgets.Text(placeholder='종목코드를 입력해 주세요')\n",
    "code.value = '035720'\n",
    "\n",
    "vbox_0 = widgets.VBox([text_0, code])\n",
    "vbox_1 = widgets.VBox([text_1,start_date, end_date ])\n",
    "vbox_2 = widgets.VBox([text_2, vbox_result])"
   ]
  },
  {
   "cell_type": "code",
   "execution_count": 74,
   "id": "d0ce755a",
   "metadata": {
    "scrolled": true
   },
   "outputs": [
    {
     "data": {
      "application/vnd.jupyter.widget-view+json": {
       "model_id": "662d5719979b4b92b86c52c17eece50d",
       "version_major": 2,
       "version_minor": 0
      },
      "text/plain": [
       "VBox(children=(VBox(children=(HTML(value='<h2>株価コード</h2>'), Text(value='035720', placeholder='종목코드를 입력해 주세요'))…"
      ]
     },
     "metadata": {},
     "output_type": "display_data"
    }
   ],
   "source": [
    "page = widgets.VBox([vbox_0, vbox_1 , vbox_2])\n",
    "display(page)"
   ]
  },
  {
   "cell_type": "code",
   "execution_count": null,
   "id": "52dcc6fc",
   "metadata": {},
   "outputs": [],
   "source": []
  },
  {
   "cell_type": "code",
   "execution_count": null,
   "id": "984c2632",
   "metadata": {},
   "outputs": [],
   "source": []
  }
 ],
 "metadata": {
  "interpreter": {
   "hash": "6494861ce0a9247699d4b666f0b06cd8da3baab5a92264a9fe7e94a414e538ea"
  },
  "kernelspec": {
   "display_name": "Python 3 (ipykernel)",
   "language": "python",
   "name": "python3"
  },
  "language_info": {
   "codemirror_mode": {
    "name": "ipython",
    "version": 3
   },
   "file_extension": ".py",
   "mimetype": "text/x-python",
   "name": "python",
   "nbconvert_exporter": "python",
   "pygments_lexer": "ipython3",
   "version": "3.9.7"
  }
 },
 "nbformat": 4,
 "nbformat_minor": 5
}
